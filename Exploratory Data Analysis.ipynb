{
 "cells": [
  {
   "cell_type": "markdown",
   "id": "8e024fe0",
   "metadata": {},
   "source": [
    "## Exploring Car Sales Data in Nigeria"
   ]
  },
  {
   "cell_type": "code",
   "execution_count": 1,
   "id": "22b3114d",
   "metadata": {},
   "outputs": [],
   "source": [
    "import pandas as pd\n",
    "import numpy as np\n",
    "import matplotlib.pyplot as plt\n",
    "import seaborn as sns"
   ]
  },
  {
   "cell_type": "code",
   "execution_count": 2,
   "id": "d7a42f81",
   "metadata": {},
   "outputs": [],
   "source": [
    "data = pd.read_csv('Nigerian_Car_Prices.csv')"
   ]
  },
  {
   "cell_type": "code",
   "execution_count": 3,
   "id": "4cf0af89",
   "metadata": {},
   "outputs": [],
   "source": [
    "df = data.copy()"
   ]
  },
  {
   "cell_type": "code",
   "execution_count": 4,
   "id": "216792d7",
   "metadata": {
    "collapsed": true
   },
   "outputs": [
    {
     "data": {
      "text/html": [
       "<div>\n",
       "<style scoped>\n",
       "    .dataframe tbody tr th:only-of-type {\n",
       "        vertical-align: middle;\n",
       "    }\n",
       "\n",
       "    .dataframe tbody tr th {\n",
       "        vertical-align: top;\n",
       "    }\n",
       "\n",
       "    .dataframe thead th {\n",
       "        text-align: right;\n",
       "    }\n",
       "</style>\n",
       "<table border=\"1\" class=\"dataframe\">\n",
       "  <thead>\n",
       "    <tr style=\"text-align: right;\">\n",
       "      <th></th>\n",
       "      <th>Unnamed: 0</th>\n",
       "      <th>Make</th>\n",
       "      <th>Year of manufacture</th>\n",
       "      <th>Condition</th>\n",
       "      <th>Mileage</th>\n",
       "      <th>Engine Size</th>\n",
       "      <th>Fuel</th>\n",
       "      <th>Transmission</th>\n",
       "      <th>Price</th>\n",
       "      <th>Build</th>\n",
       "    </tr>\n",
       "  </thead>\n",
       "  <tbody>\n",
       "    <tr>\n",
       "      <th>0</th>\n",
       "      <td>0</td>\n",
       "      <td>Toyota</td>\n",
       "      <td>2007.0</td>\n",
       "      <td>Nigerian Used</td>\n",
       "      <td>166418.0</td>\n",
       "      <td>2400.0</td>\n",
       "      <td>Petrol</td>\n",
       "      <td>Automatic</td>\n",
       "      <td>3,120,000</td>\n",
       "      <td>NaN</td>\n",
       "    </tr>\n",
       "    <tr>\n",
       "      <th>1</th>\n",
       "      <td>1</td>\n",
       "      <td>Lexus</td>\n",
       "      <td>NaN</td>\n",
       "      <td>NaN</td>\n",
       "      <td>138024.0</td>\n",
       "      <td>NaN</td>\n",
       "      <td>NaN</td>\n",
       "      <td>Automatic</td>\n",
       "      <td>5,834,000</td>\n",
       "      <td>NaN</td>\n",
       "    </tr>\n",
       "    <tr>\n",
       "      <th>2</th>\n",
       "      <td>2</td>\n",
       "      <td>Mercedes-Benz</td>\n",
       "      <td>2008.0</td>\n",
       "      <td>Nigerian Used</td>\n",
       "      <td>376807.0</td>\n",
       "      <td>3000.0</td>\n",
       "      <td>Petrol</td>\n",
       "      <td>Automatic</td>\n",
       "      <td>3,640,000</td>\n",
       "      <td>NaN</td>\n",
       "    </tr>\n",
       "    <tr>\n",
       "      <th>3</th>\n",
       "      <td>3</td>\n",
       "      <td>Lexus</td>\n",
       "      <td>NaN</td>\n",
       "      <td>NaN</td>\n",
       "      <td>213362.0</td>\n",
       "      <td>NaN</td>\n",
       "      <td>NaN</td>\n",
       "      <td>Automatic</td>\n",
       "      <td>3,594,000</td>\n",
       "      <td>NaN</td>\n",
       "    </tr>\n",
       "    <tr>\n",
       "      <th>4</th>\n",
       "      <td>4</td>\n",
       "      <td>Mercedes-Benz</td>\n",
       "      <td>NaN</td>\n",
       "      <td>NaN</td>\n",
       "      <td>106199.0</td>\n",
       "      <td>NaN</td>\n",
       "      <td>NaN</td>\n",
       "      <td>Automatic</td>\n",
       "      <td>8,410,000</td>\n",
       "      <td>NaN</td>\n",
       "    </tr>\n",
       "  </tbody>\n",
       "</table>\n",
       "</div>"
      ],
      "text/plain": [
       "   Unnamed: 0           Make  Year of manufacture      Condition   Mileage  \\\n",
       "0           0         Toyota               2007.0  Nigerian Used  166418.0   \n",
       "1           1          Lexus                  NaN            NaN  138024.0   \n",
       "2           2  Mercedes-Benz               2008.0  Nigerian Used  376807.0   \n",
       "3           3          Lexus                  NaN            NaN  213362.0   \n",
       "4           4  Mercedes-Benz                  NaN            NaN  106199.0   \n",
       "\n",
       "   Engine Size    Fuel Transmission      Price Build  \n",
       "0       2400.0  Petrol    Automatic  3,120,000   NaN  \n",
       "1          NaN     NaN    Automatic  5,834,000   NaN  \n",
       "2       3000.0  Petrol    Automatic  3,640,000   NaN  \n",
       "3          NaN     NaN    Automatic  3,594,000   NaN  \n",
       "4          NaN     NaN    Automatic  8,410,000   NaN  "
      ]
     },
     "execution_count": 4,
     "metadata": {},
     "output_type": "execute_result"
    }
   ],
   "source": [
    "df.head()"
   ]
  },
  {
   "cell_type": "code",
   "execution_count": 4,
   "id": "da3991d5",
   "metadata": {},
   "outputs": [],
   "source": [
    "df.drop('Unnamed: 0', axis=1, inplace=True)"
   ]
  },
  {
   "cell_type": "code",
   "execution_count": 9,
   "id": "7dccdec5",
   "metadata": {
    "collapsed": true
   },
   "outputs": [
    {
     "data": {
      "text/html": [
       "<div>\n",
       "<style scoped>\n",
       "    .dataframe tbody tr th:only-of-type {\n",
       "        vertical-align: middle;\n",
       "    }\n",
       "\n",
       "    .dataframe tbody tr th {\n",
       "        vertical-align: top;\n",
       "    }\n",
       "\n",
       "    .dataframe thead th {\n",
       "        text-align: right;\n",
       "    }\n",
       "</style>\n",
       "<table border=\"1\" class=\"dataframe\">\n",
       "  <thead>\n",
       "    <tr style=\"text-align: right;\">\n",
       "      <th></th>\n",
       "      <th>Make</th>\n",
       "      <th>Year of manufacture</th>\n",
       "      <th>Condition</th>\n",
       "      <th>Mileage</th>\n",
       "      <th>Engine Size</th>\n",
       "      <th>Fuel</th>\n",
       "      <th>Transmission</th>\n",
       "      <th>Price</th>\n",
       "      <th>Build</th>\n",
       "    </tr>\n",
       "  </thead>\n",
       "  <tbody>\n",
       "    <tr>\n",
       "      <th>0</th>\n",
       "      <td>Toyota</td>\n",
       "      <td>2007.0</td>\n",
       "      <td>Nigerian Used</td>\n",
       "      <td>166418.0</td>\n",
       "      <td>2400.0</td>\n",
       "      <td>Petrol</td>\n",
       "      <td>Automatic</td>\n",
       "      <td>3,120,000</td>\n",
       "      <td>NaN</td>\n",
       "    </tr>\n",
       "    <tr>\n",
       "      <th>1</th>\n",
       "      <td>Lexus</td>\n",
       "      <td>NaN</td>\n",
       "      <td>NaN</td>\n",
       "      <td>138024.0</td>\n",
       "      <td>NaN</td>\n",
       "      <td>NaN</td>\n",
       "      <td>Automatic</td>\n",
       "      <td>5,834,000</td>\n",
       "      <td>NaN</td>\n",
       "    </tr>\n",
       "    <tr>\n",
       "      <th>2</th>\n",
       "      <td>Mercedes-Benz</td>\n",
       "      <td>2008.0</td>\n",
       "      <td>Nigerian Used</td>\n",
       "      <td>376807.0</td>\n",
       "      <td>3000.0</td>\n",
       "      <td>Petrol</td>\n",
       "      <td>Automatic</td>\n",
       "      <td>3,640,000</td>\n",
       "      <td>NaN</td>\n",
       "    </tr>\n",
       "    <tr>\n",
       "      <th>3</th>\n",
       "      <td>Lexus</td>\n",
       "      <td>NaN</td>\n",
       "      <td>NaN</td>\n",
       "      <td>213362.0</td>\n",
       "      <td>NaN</td>\n",
       "      <td>NaN</td>\n",
       "      <td>Automatic</td>\n",
       "      <td>3,594,000</td>\n",
       "      <td>NaN</td>\n",
       "    </tr>\n",
       "    <tr>\n",
       "      <th>4</th>\n",
       "      <td>Mercedes-Benz</td>\n",
       "      <td>NaN</td>\n",
       "      <td>NaN</td>\n",
       "      <td>106199.0</td>\n",
       "      <td>NaN</td>\n",
       "      <td>NaN</td>\n",
       "      <td>Automatic</td>\n",
       "      <td>8,410,000</td>\n",
       "      <td>NaN</td>\n",
       "    </tr>\n",
       "  </tbody>\n",
       "</table>\n",
       "</div>"
      ],
      "text/plain": [
       "            Make  Year of manufacture      Condition   Mileage  Engine Size  \\\n",
       "0         Toyota               2007.0  Nigerian Used  166418.0       2400.0   \n",
       "1          Lexus                  NaN            NaN  138024.0          NaN   \n",
       "2  Mercedes-Benz               2008.0  Nigerian Used  376807.0       3000.0   \n",
       "3          Lexus                  NaN            NaN  213362.0          NaN   \n",
       "4  Mercedes-Benz                  NaN            NaN  106199.0          NaN   \n",
       "\n",
       "     Fuel Transmission      Price Build  \n",
       "0  Petrol    Automatic  3,120,000   NaN  \n",
       "1     NaN    Automatic  5,834,000   NaN  \n",
       "2  Petrol    Automatic  3,640,000   NaN  \n",
       "3     NaN    Automatic  3,594,000   NaN  \n",
       "4     NaN    Automatic  8,410,000   NaN  "
      ]
     },
     "execution_count": 9,
     "metadata": {},
     "output_type": "execute_result"
    }
   ],
   "source": [
    "df.head()"
   ]
  },
  {
   "cell_type": "code",
   "execution_count": 10,
   "id": "065effb8",
   "metadata": {},
   "outputs": [
    {
     "name": "stdout",
     "output_type": "stream",
     "text": [
      "<class 'pandas.core.frame.DataFrame'>\n",
      "RangeIndex: 4095 entries, 0 to 4094\n",
      "Data columns (total 9 columns):\n",
      " #   Column               Non-Null Count  Dtype  \n",
      "---  ------               --------------  -----  \n",
      " 0   Make                 4095 non-null   object \n",
      " 1   Year of manufacture  3617 non-null   float64\n",
      " 2   Condition            3616 non-null   object \n",
      " 3   Mileage              4024 non-null   float64\n",
      " 4   Engine Size          3584 non-null   float64\n",
      " 5   Fuel                 3607 non-null   object \n",
      " 6   Transmission         4075 non-null   object \n",
      " 7   Price                4095 non-null   object \n",
      " 8   Build                1127 non-null   object \n",
      "dtypes: float64(3), object(6)\n",
      "memory usage: 288.1+ KB\n"
     ]
    }
   ],
   "source": [
    "df.info()"
   ]
  },
  {
   "cell_type": "code",
   "execution_count": 6,
   "id": "77b3752c",
   "metadata": {},
   "outputs": [],
   "source": [
    "df2 = df.drop('Build', axis=1)"
   ]
  },
  {
   "cell_type": "code",
   "execution_count": 13,
   "id": "d31b1091",
   "metadata": {},
   "outputs": [
    {
     "data": {
      "text/html": [
       "<div>\n",
       "<style scoped>\n",
       "    .dataframe tbody tr th:only-of-type {\n",
       "        vertical-align: middle;\n",
       "    }\n",
       "\n",
       "    .dataframe tbody tr th {\n",
       "        vertical-align: top;\n",
       "    }\n",
       "\n",
       "    .dataframe thead th {\n",
       "        text-align: right;\n",
       "    }\n",
       "</style>\n",
       "<table border=\"1\" class=\"dataframe\">\n",
       "  <thead>\n",
       "    <tr style=\"text-align: right;\">\n",
       "      <th></th>\n",
       "      <th>Make</th>\n",
       "      <th>Year of manufacture</th>\n",
       "      <th>Condition</th>\n",
       "      <th>Mileage</th>\n",
       "      <th>Engine Size</th>\n",
       "      <th>Fuel</th>\n",
       "      <th>Transmission</th>\n",
       "      <th>Price</th>\n",
       "    </tr>\n",
       "  </thead>\n",
       "  <tbody>\n",
       "    <tr>\n",
       "      <th>0</th>\n",
       "      <td>Toyota</td>\n",
       "      <td>2007.0</td>\n",
       "      <td>Nigerian Used</td>\n",
       "      <td>166418.0</td>\n",
       "      <td>2400.0</td>\n",
       "      <td>Petrol</td>\n",
       "      <td>Automatic</td>\n",
       "      <td>3,120,000</td>\n",
       "    </tr>\n",
       "    <tr>\n",
       "      <th>1</th>\n",
       "      <td>Lexus</td>\n",
       "      <td>NaN</td>\n",
       "      <td>NaN</td>\n",
       "      <td>138024.0</td>\n",
       "      <td>NaN</td>\n",
       "      <td>NaN</td>\n",
       "      <td>Automatic</td>\n",
       "      <td>5,834,000</td>\n",
       "    </tr>\n",
       "  </tbody>\n",
       "</table>\n",
       "</div>"
      ],
      "text/plain": [
       "     Make  Year of manufacture      Condition   Mileage  Engine Size    Fuel  \\\n",
       "0  Toyota               2007.0  Nigerian Used  166418.0       2400.0  Petrol   \n",
       "1   Lexus                  NaN            NaN  138024.0          NaN     NaN   \n",
       "\n",
       "  Transmission      Price  \n",
       "0    Automatic  3,120,000  \n",
       "1    Automatic  5,834,000  "
      ]
     },
     "execution_count": 13,
     "metadata": {},
     "output_type": "execute_result"
    }
   ],
   "source": [
    "df2.head(2)"
   ]
  },
  {
   "cell_type": "code",
   "execution_count": 17,
   "id": "1635ca74",
   "metadata": {},
   "outputs": [],
   "source": [
    "# Remove scientific notation in pandas\n",
    "pd.set_option('display.float_format', lambda x: '%.3f' % x)"
   ]
  },
  {
   "cell_type": "code",
   "execution_count": 18,
   "id": "393e63d0",
   "metadata": {},
   "outputs": [
    {
     "data": {
      "text/html": [
       "<div>\n",
       "<style scoped>\n",
       "    .dataframe tbody tr th:only-of-type {\n",
       "        vertical-align: middle;\n",
       "    }\n",
       "\n",
       "    .dataframe tbody tr th {\n",
       "        vertical-align: top;\n",
       "    }\n",
       "\n",
       "    .dataframe thead th {\n",
       "        text-align: right;\n",
       "    }\n",
       "</style>\n",
       "<table border=\"1\" class=\"dataframe\">\n",
       "  <thead>\n",
       "    <tr style=\"text-align: right;\">\n",
       "      <th></th>\n",
       "      <th>Year of manufacture</th>\n",
       "      <th>Mileage</th>\n",
       "      <th>Engine Size</th>\n",
       "    </tr>\n",
       "  </thead>\n",
       "  <tbody>\n",
       "    <tr>\n",
       "      <th>count</th>\n",
       "      <td>3617.000</td>\n",
       "      <td>4024.000</td>\n",
       "      <td>3584.000</td>\n",
       "    </tr>\n",
       "    <tr>\n",
       "      <th>mean</th>\n",
       "      <td>2007.899</td>\n",
       "      <td>182533.656</td>\n",
       "      <td>3274.977</td>\n",
       "    </tr>\n",
       "    <tr>\n",
       "      <th>std</th>\n",
       "      <td>4.300</td>\n",
       "      <td>210923.301</td>\n",
       "      <td>7693.490</td>\n",
       "    </tr>\n",
       "    <tr>\n",
       "      <th>min</th>\n",
       "      <td>1992.000</td>\n",
       "      <td>1.000</td>\n",
       "      <td>3.000</td>\n",
       "    </tr>\n",
       "    <tr>\n",
       "      <th>25%</th>\n",
       "      <td>2005.000</td>\n",
       "      <td>102064.000</td>\n",
       "      <td>2000.000</td>\n",
       "    </tr>\n",
       "    <tr>\n",
       "      <th>50%</th>\n",
       "      <td>2008.000</td>\n",
       "      <td>161352.500</td>\n",
       "      <td>2500.000</td>\n",
       "    </tr>\n",
       "    <tr>\n",
       "      <th>75%</th>\n",
       "      <td>2011.000</td>\n",
       "      <td>231952.250</td>\n",
       "      <td>3500.000</td>\n",
       "    </tr>\n",
       "    <tr>\n",
       "      <th>max</th>\n",
       "      <td>2021.000</td>\n",
       "      <td>9976050.000</td>\n",
       "      <td>371000.000</td>\n",
       "    </tr>\n",
       "  </tbody>\n",
       "</table>\n",
       "</div>"
      ],
      "text/plain": [
       "       Year of manufacture     Mileage  Engine Size\n",
       "count             3617.000    4024.000     3584.000\n",
       "mean              2007.899  182533.656     3274.977\n",
       "std                  4.300  210923.301     7693.490\n",
       "min               1992.000       1.000        3.000\n",
       "25%               2005.000  102064.000     2000.000\n",
       "50%               2008.000  161352.500     2500.000\n",
       "75%               2011.000  231952.250     3500.000\n",
       "max               2021.000 9976050.000   371000.000"
      ]
     },
     "execution_count": 18,
     "metadata": {},
     "output_type": "execute_result"
    }
   ],
   "source": [
    "df2.describe()"
   ]
  },
  {
   "cell_type": "markdown",
   "id": "8ac3fab4",
   "metadata": {},
   "source": [
    "**Mean**\n",
    "\n",
    "Mileage = 182533.656\n",
    "\n",
    "Engine Size = 3274.977\n",
    "\n",
    "**Standard Deviation**\n",
    "\n",
    "Mileage = 210923.301\n",
    "\n",
    "Engine Size = 7693.490\n",
    "\n",
    "**Median**\n",
    "\n",
    "Mileage = 161352.500\n",
    "\n",
    "Engine Size = 2500.000"
   ]
  },
  {
   "cell_type": "code",
   "execution_count": 20,
   "id": "b4edaa82",
   "metadata": {},
   "outputs": [
    {
     "data": {
      "text/plain": [
       "array(['Toyota', 'Lexus', 'Mercedes-Benz', 'Fiat', 'Land Rover', 'Foton',\n",
       "       'JAC', 'Acura', 'Tata', 'Saturn', 'Porsche', 'Lincoln', 'GMC',\n",
       "       'Renault', 'Mini', 'Ford', 'Buick', 'Cadillac', 'Audi', 'Infiniti',\n",
       "       'Jeep', 'Peugeot', 'Dodge', 'Jaguar', 'Seat', 'Isuzu', 'Skoda',\n",
       "       'Nissan', 'Hyundai', 'Pontiac', 'Hummer', 'Chevrolet', 'MG',\n",
       "       'Honda', 'Chrysler', 'Kia', 'SsangYong', 'Mazda', 'Changan',\n",
       "       'Mitsubishi', 'Suzuki', 'BMW', 'Rover', 'Citroen', 'Volkswagen',\n",
       "       'Volvo', 'Opel', 'Bentley', 'Daihatsu'], dtype=object)"
      ]
     },
     "execution_count": 20,
     "metadata": {},
     "output_type": "execute_result"
    }
   ],
   "source": [
    "# Different makes of cars\n",
    "df2['Make'].unique()"
   ]
  },
  {
   "cell_type": "code",
   "execution_count": 21,
   "id": "025cb17d",
   "metadata": {},
   "outputs": [
    {
     "data": {
      "text/plain": [
       "49"
      ]
     },
     "execution_count": 21,
     "metadata": {},
     "output_type": "execute_result"
    }
   ],
   "source": [
    "df2['Make'].nunique()"
   ]
  },
  {
   "cell_type": "code",
   "execution_count": 22,
   "id": "5cf9c01a",
   "metadata": {},
   "outputs": [
    {
     "data": {
      "text/plain": [
       "Toyota           1469\n",
       "Lexus             464\n",
       "Mercedes-Benz     436\n",
       "Honda             428\n",
       "Ford              197\n",
       "Hyundai           179\n",
       "Nissan            173\n",
       "Kia                90\n",
       "Land Rover         74\n",
       "Volkswagen         64\n",
       "Mazda              63\n",
       "BMW                63\n",
       "Acura              56\n",
       "Infiniti           41\n",
       "Chevrolet          40\n",
       "Peugeot            36\n",
       "Mitsubishi         23\n",
       "Pontiac            22\n",
       "Volvo              22\n",
       "Suzuki             21\n",
       "Dodge              17\n",
       "Audi               14\n",
       "Opel               12\n",
       "Jaguar             11\n",
       "Jeep               11\n",
       "Porsche             9\n",
       "Renault             8\n",
       "Chrysler            7\n",
       "Fiat                6\n",
       "GMC                 5\n",
       "Changan             4\n",
       "Lincoln             4\n",
       "Skoda               3\n",
       "Hummer              2\n",
       "Buick               2\n",
       "JAC                 2\n",
       "Citroen             2\n",
       "Isuzu               2\n",
       "Mini                2\n",
       "MG                  2\n",
       "Rover               1\n",
       "Bentley             1\n",
       "Seat                1\n",
       "SsangYong           1\n",
       "Cadillac            1\n",
       "Saturn              1\n",
       "Tata                1\n",
       "Foton               1\n",
       "Daihatsu            1\n",
       "Name: Make, dtype: int64"
      ]
     },
     "execution_count": 22,
     "metadata": {},
     "output_type": "execute_result"
    }
   ],
   "source": [
    "# Check the number of cars per make\n",
    "df2['Make'].value_counts()"
   ]
  },
  {
   "cell_type": "code",
   "execution_count": 26,
   "id": "db9de144",
   "metadata": {},
   "outputs": [],
   "source": [
    "n = df2.sort_values('Make').head(10)\n"
   ]
  },
  {
   "cell_type": "code",
   "execution_count": 11,
   "id": "ca077e3c",
   "metadata": {},
   "outputs": [
    {
     "data": {
      "image/png": "[encoded data removed]",
      "text/plain": [
       "<Figure size 864x720 with 1 Axes>"
      ]
     },
     "metadata": {
      "needs_background": "light"
     },
     "output_type": "display_data"
    }
   ],
   "source": [
    "plt.figure(figsize=(12, 10))\n",
    "sns.countplot(y='Make', data=df2).tick_params(axis='x', rotation=90)"
   ]
  },
  {
   "cell_type": "code",
   "execution_count": 38,
   "id": "741b1bd1",
   "metadata": {},
   "outputs": [
    {
     "data": {
      "text/html": [
       "<div>\n",
       "<style scoped>\n",
       "    .dataframe tbody tr th:only-of-type {\n",
       "        vertical-align: middle;\n",
       "    }\n",
       "\n",
       "    .dataframe tbody tr th {\n",
       "        vertical-align: top;\n",
       "    }\n",
       "\n",
       "    .dataframe thead th {\n",
       "        text-align: right;\n",
       "    }\n",
       "</style>\n",
       "<table border=\"1\" class=\"dataframe\">\n",
       "  <thead>\n",
       "    <tr style=\"text-align: right;\">\n",
       "      <th></th>\n",
       "      <th>Make</th>\n",
       "      <th>Year of manufacture</th>\n",
       "      <th>Condition</th>\n",
       "      <th>Mileage</th>\n",
       "      <th>Engine Size</th>\n",
       "      <th>Fuel</th>\n",
       "      <th>Transmission</th>\n",
       "      <th>Price</th>\n",
       "    </tr>\n",
       "  </thead>\n",
       "  <tbody>\n",
       "    <tr>\n",
       "      <th>4007</th>\n",
       "      <td>Honda</td>\n",
       "      <td>NaN</td>\n",
       "      <td>NaN</td>\n",
       "      <td>276633.000</td>\n",
       "      <td>NaN</td>\n",
       "      <td>NaN</td>\n",
       "      <td>Manual</td>\n",
       "      <td>458000.000</td>\n",
       "    </tr>\n",
       "    <tr>\n",
       "      <th>4021</th>\n",
       "      <td>Honda</td>\n",
       "      <td>NaN</td>\n",
       "      <td>NaN</td>\n",
       "      <td>276633.000</td>\n",
       "      <td>NaN</td>\n",
       "      <td>NaN</td>\n",
       "      <td>Manual</td>\n",
       "      <td>458000.000</td>\n",
       "    </tr>\n",
       "    <tr>\n",
       "      <th>3992</th>\n",
       "      <td>Hyundai</td>\n",
       "      <td>2002.000</td>\n",
       "      <td>Nigerian Used</td>\n",
       "      <td>177589.000</td>\n",
       "      <td>1600.000</td>\n",
       "      <td>Petrol</td>\n",
       "      <td>Automatic</td>\n",
       "      <td>472500.000</td>\n",
       "    </tr>\n",
       "    <tr>\n",
       "      <th>3927</th>\n",
       "      <td>Nissan</td>\n",
       "      <td>1992.000</td>\n",
       "      <td>Nigerian Used</td>\n",
       "      <td>292054.000</td>\n",
       "      <td>1400.000</td>\n",
       "      <td>Petrol</td>\n",
       "      <td>Manual</td>\n",
       "      <td>525000.000</td>\n",
       "    </tr>\n",
       "    <tr>\n",
       "      <th>3935</th>\n",
       "      <td>Hyundai</td>\n",
       "      <td>2015.000</td>\n",
       "      <td>Nigerian Used</td>\n",
       "      <td>NaN</td>\n",
       "      <td>1100.000</td>\n",
       "      <td>Petrol</td>\n",
       "      <td>Manual</td>\n",
       "      <td>525000.000</td>\n",
       "    </tr>\n",
       "    <tr>\n",
       "      <th>3939</th>\n",
       "      <td>Nissan</td>\n",
       "      <td>1992.000</td>\n",
       "      <td>Nigerian Used</td>\n",
       "      <td>292054.000</td>\n",
       "      <td>1400.000</td>\n",
       "      <td>Petrol</td>\n",
       "      <td>Manual</td>\n",
       "      <td>525000.000</td>\n",
       "    </tr>\n",
       "    <tr>\n",
       "      <th>3954</th>\n",
       "      <td>Hyundai</td>\n",
       "      <td>2014.000</td>\n",
       "      <td>Nigerian Used</td>\n",
       "      <td>121294.000</td>\n",
       "      <td>1100.000</td>\n",
       "      <td>Petrol</td>\n",
       "      <td>Manual</td>\n",
       "      <td>525000.000</td>\n",
       "    </tr>\n",
       "    <tr>\n",
       "      <th>3971</th>\n",
       "      <td>Hyundai</td>\n",
       "      <td>2014.000</td>\n",
       "      <td>Nigerian Used</td>\n",
       "      <td>121294.000</td>\n",
       "      <td>1100.000</td>\n",
       "      <td>Petrol</td>\n",
       "      <td>Manual</td>\n",
       "      <td>525000.000</td>\n",
       "    </tr>\n",
       "    <tr>\n",
       "      <th>3998</th>\n",
       "      <td>BMW</td>\n",
       "      <td>1997.000</td>\n",
       "      <td>Nigerian Used</td>\n",
       "      <td>188753.000</td>\n",
       "      <td>1800.000</td>\n",
       "      <td>Petrol</td>\n",
       "      <td>Automatic</td>\n",
       "      <td>525000.000</td>\n",
       "    </tr>\n",
       "    <tr>\n",
       "      <th>4034</th>\n",
       "      <td>Honda</td>\n",
       "      <td>NaN</td>\n",
       "      <td>NaN</td>\n",
       "      <td>247664.000</td>\n",
       "      <td>NaN</td>\n",
       "      <td>NaN</td>\n",
       "      <td>Manual</td>\n",
       "      <td>570000.000</td>\n",
       "    </tr>\n",
       "  </tbody>\n",
       "</table>\n",
       "</div>"
      ],
      "text/plain": [
       "         Make  Year of manufacture      Condition    Mileage  Engine Size  \\\n",
       "4007    Honda                  NaN            NaN 276633.000          NaN   \n",
       "4021    Honda                  NaN            NaN 276633.000          NaN   \n",
       "3992  Hyundai             2002.000  Nigerian Used 177589.000     1600.000   \n",
       "3927   Nissan             1992.000  Nigerian Used 292054.000     1400.000   \n",
       "3935  Hyundai             2015.000  Nigerian Used        NaN     1100.000   \n",
       "3939   Nissan             1992.000  Nigerian Used 292054.000     1400.000   \n",
       "3954  Hyundai             2014.000  Nigerian Used 121294.000     1100.000   \n",
       "3971  Hyundai             2014.000  Nigerian Used 121294.000     1100.000   \n",
       "3998      BMW             1997.000  Nigerian Used 188753.000     1800.000   \n",
       "4034    Honda                  NaN            NaN 247664.000          NaN   \n",
       "\n",
       "        Fuel Transmission      Price  \n",
       "4007     NaN       Manual 458000.000  \n",
       "4021     NaN       Manual 458000.000  \n",
       "3992  Petrol    Automatic 472500.000  \n",
       "3927  Petrol       Manual 525000.000  \n",
       "3935  Petrol       Manual 525000.000  \n",
       "3939  Petrol       Manual 525000.000  \n",
       "3954  Petrol       Manual 525000.000  \n",
       "3971  Petrol       Manual 525000.000  \n",
       "3998  Petrol    Automatic 525000.000  \n",
       "4034     NaN       Manual 570000.000  "
      ]
     },
     "execution_count": 38,
     "metadata": {},
     "output_type": "execute_result"
    }
   ],
   "source": [
    "df2.nsmallest(10, 'Price')"
   ]
  },
  {
   "cell_type": "code",
   "execution_count": 36,
   "id": "2b79ae76",
   "metadata": {},
   "outputs": [],
   "source": [
    "# Convert the price column to float\n",
    "df2['Price'] = df2['Price'].astype(float)"
   ]
  },
  {
   "cell_type": "code",
   "execution_count": 35,
   "id": "a251ef50",
   "metadata": {},
   "outputs": [],
   "source": [
    "# Replace the commas with an empty string\n",
    "df2['Price'] = df2['Price'].str.replace(',','')"
   ]
  },
  {
   "cell_type": "code",
   "execution_count": 16,
   "id": "920e17e7",
   "metadata": {},
   "outputs": [],
   "source": [
    "top_5_makes = df2[(df2['Make']=='Toyota')|(df2['Make']=='Lexus')|(df2['Make']=='Mercedes-Benz')|(df2['Make']=='Honda')|(df2['Make']=='Ford')]"
   ]
  },
  {
   "cell_type": "code",
   "execution_count": 17,
   "id": "ead5c0b0",
   "metadata": {},
   "outputs": [
    {
     "data": {
      "image/png": "[encoded data removed]",
      "text/plain": [
       "<Figure size 432x288 with 1 Axes>"
      ]
     },
     "metadata": {
      "needs_background": "light"
     },
     "output_type": "display_data"
    }
   ],
   "source": [
    "sns.countplot(y='Make', data=top_5_makes).tick_params(axis='x', rotation=90)"
   ]
  },
  {
   "cell_type": "code",
   "execution_count": null,
   "id": "71437204",
   "metadata": {},
   "outputs": [],
   "source": []
  }
 ],
 "metadata": {
  "kernelspec": {
   "display_name": "Python 3 (ipykernel)",
   "language": "python",
   "name": "python3"
  },
  "language_info": {
   "codemirror_mode": {
    "name": "ipython",
    "version": 3
   },
   "file_extension": ".py",
   "mimetype": "text/x-python",
   "name": "python",
   "nbconvert_exporter": "python",
   "pygments_lexer": "ipython3",
   "version": "3.9.12"
  }
 },
 "nbformat": 4,
 "nbformat_minor": 5
}
